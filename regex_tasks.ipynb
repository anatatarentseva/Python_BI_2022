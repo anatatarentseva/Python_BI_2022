{
  "nbformat": 4,
  "nbformat_minor": 0,
  "metadata": {
    "colab": {
      "provenance": []
    },
    "kernelspec": {
      "name": "python3",
      "display_name": "Python 3"
    },
    "language_info": {
      "name": "python"
    }
  },
  "cells": [
    {
      "cell_type": "code",
      "execution_count": null,
      "metadata": {
        "id": "I7XQPGtVlh7E"
      },
      "outputs": [],
      "source": [
        "import re\n",
        "import requests\n",
        "import pandas as pd\n",
        "\n",
        "import matplotlib.pyplot as plt\n",
        "%matplotlib inline"
      ]
    },
    {
      "cell_type": "markdown",
      "source": [
        "Задание №1"
      ],
      "metadata": {
        "id": "ahzuRO6XpQWG"
      }
    },
    {
      "cell_type": "code",
      "source": [
        "text1 = requests.get('https://raw.githubusercontent.com/Serfentum/bf_course/master/15.re/references').text\n",
        "data = re.findall(r'\\b(ftp\\..*)\\b', text1)\n",
        "links = []\n",
        "for row in data:\n",
        "    links += re.split(r'[\\t;]', row)\n",
        "links = list(set(links))\n",
        "\n",
        "file = open(\"ftps.txt\",\"w\")\n",
        "file.writelines('\\n'.join(links))\n",
        "file.close() "
      ],
      "metadata": {
        "id": "wd7eS-Wylp4j"
      },
      "execution_count": null,
      "outputs": []
    },
    {
      "cell_type": "markdown",
      "source": [
        "Задание №2"
      ],
      "metadata": {
        "id": "LivndILlpUjv"
      }
    },
    {
      "cell_type": "code",
      "source": [
        "text2 = requests.get('https://raw.githubusercontent.com/Serfentum/bf_course/master/15.re/2430AD').text\n",
        "nums = re.findall(r'[\\d]+', text2)\n",
        "print(*nums)"
      ],
      "metadata": {
        "colab": {
          "base_uri": "https://localhost:8080/"
        },
        "id": "6HRKPS12lwo0",
        "outputId": "b92aac45-3f1a-4056-e393-954739d2b941"
      },
      "execution_count": null,
      "outputs": [
        {
          "output_type": "stream",
          "name": "stdout",
          "text": [
            "2430 1969 2430 2430 57 57 1970 3 68 35 460 2430\n"
          ]
        }
      ]
    },
    {
      "cell_type": "markdown",
      "source": [
        "Задание №3"
      ],
      "metadata": {
        "id": "bpGvAjPUp0jN"
      }
    },
    {
      "cell_type": "code",
      "source": [
        "words_a = re.findall(r'\\b(\\w*[aA]\\w*)\\b', text2)\n",
        "print(set(words_a))"
      ],
      "metadata": {
        "colab": {
          "base_uri": "https://localhost:8080/"
        },
        "id": "injt5oY2lw6Z",
        "outputId": "227916b6-daac-4497-fd0f-f3c21b43f60e"
      },
      "execution_count": null,
      "outputs": [
        {
          "output_type": "stream",
          "name": "stdout",
          "text": [
            "{'voluntarily', 'because', 'tolerated', 'starship', 'plants', 'And', 'signaled', 'than', 'harm', 'planetary', 'all', 'matches', 'leading', 'talk', 'irradiated', 'A', 'reason', 'ache', 'space', 'compare', 'Earthlike', 'having', 'Guinea', 'another', 'generation', 'blade', 'war', 'mankind', 'advance', 'taken', 'as', 'distance', 'rampways', 'character', 'humanity', 'reaching', 'peak', 'acted', 'cages', 'paid', 'had', 'preparations', 'hand', 'Trail', 'made', 'GREATEST', 'meant', 'Someday', 'head', 'farms', 'establishment', 'calm', 'mad', 'heard', 'peacefully', 'maintained', 'act', 'air', 'calories', 'heaved', 'human', 'after', 'read', 'above', 'All', 'larger', 'came', 'amount', 'vast', 'against', 'throat', 'celebrate', 'plastic', 'inhabitants', 'accepted', 'goal', 'already', 'advances', 'resistance', 'care', 'Alvarez', 'imitating', 'also', 'waved', 'wall', 'asking', 'stayed', 'placid', 'thousands', 'placidly', 'reached', 'year', 'Shall', 'demanded', 'jackass', 'normal', 'flaw', 'around', 'Earth', 'same', 'along', 'quantity', 'saw', 'established', 'ASSET', 'talking', 'finally', 'regulated', 'has', 'sea', 'unallayed', 'passed', 'brain', 'tall', 'last', 'accede', 'bears', 'eventually', 'easy', 'are', 'again', 'sunlamps', 'animals', 'added', 'irritably', 'a', 'handing', 'escaped', 'day', 'destination', 'taking', 'romanticized', 'nightmare', 'attempt', 'largest', 'anywhere', 'May', 'peace', 'asked', 'cannot', 'lizards', 'Rabbits', 'stand', 'wait', 'ask', 'wants', 'art', 'small', 'personality', 'apartment', 'and', 'instance', 'Literally', 'plankton', 'each', 'irritates', 'favor', 'measure', 'infants', 'half', 'amphibians', 'planet', 'multiplication', 'learn', 'about', 'carefully', 'adjusted', 'say', 'deviants', 'replaced', 'uneasily', 'fan', 'really', 'dinosaurs', 'varied', 'man', 'humans', 'repaired', 'back', 'manner', 'annoyance', 'decades', 'solar', 'Campbell', 'social', 'carbon', 'certain', 'rate', 'persuaded', 'reach', 'start', 'millennia', 'transferred', 'genetically', 'way', 'departed', 'paused', 'unable', 'chance', 'changed', 'wasted', 'heat', 'Rather', 'placidity', 'replacement', 'far', 'ready', 'appropriate', 'Increase', 'combination', 'have', 'ate', 'want', 'standing', 'AD', 'conceivable', 'An', 'giant', 'harvest', 'machinery', 'basked', 'stare', 'gathered', 'learning', 'capable', 'grass', 'hair', 'evaluate', 'Have', 'adjustment', 'substance', 'necessary', 'insinuating', 'waiting', 'sympathy', 'at', 'agree', 'population', 'libraries', 'packed', 'varieties', 'Mankind', 'Magazine', 'said', 'prepared', 'face', 'treated', 'land', 'stars', 'variety', 'ran', 'avoided', 'uninhabited', 'was', 'carry', 'exactly', 'continental', 'wastes', 'amused', 'situation', 'Can', 'faded', 'called', 'capacity', 'wasn', 'necessarily', 'audible', 'estimated', 'ashamed', 'persuade', 'total', 'Inhuman', 'that', 'family', 'equal', 'margin', 'Because', 'matter', 'chances', 'gray', 'mammals', 'years', 'many', 'gaze', 'fears', 'real', 'unusual', 'death', 'creatures', 'animal', 'ago', 'state', 'vapors', 'contract', 'take', 'jaw', 'large', 'escape', 'waited', 'Whatever', 'organic', 'can', 'original', 'talked', 'always', 'angrily', 'wasteful', 'seared', 'almost', 'crazy', 'great', 'sparsely', 'remained', 'Cranwitz', 'blank', 'Year', 'intangible', 'dawn', 'hadn', 'What', 'abandoned', 'square', 'pale', 'dreamed', 'stairs', 'Exactly', 'ignorant', 'exasperation', 'Perhaps', 'Social', 'organized', 'That', 'understand', 'madness', 'ocean', 'increase', 'past', 'gleam', 'idea', 'rather', 'athletic', 'guinea', 'placoderms', 'dreaded', 'deaths', 'muscular', 'clear', 'an', 'feared', 'universal', 'walking', 'peaceful', 'case', 'Representative', 'haven', 'idealist', 'disregarded', 'father', 'carnivores', 'achieved', 'sat', 'activities', 'what', 'tact', 'steady'}\n"
          ]
        }
      ]
    },
    {
      "cell_type": "markdown",
      "source": [
        "Задание №4"
      ],
      "metadata": {
        "id": "t1v5BbKpqT2W"
      }
    },
    {
      "cell_type": "code",
      "source": [
        "sentances = re.findall(r'([A-Z][\\s\\w,]*!)', text2) \n",
        "print(sentances)"
      ],
      "metadata": {
        "colab": {
          "base_uri": "https://localhost:8080/"
        },
        "id": "q4iLq58alw9Q",
        "outputId": "27555856-5253-42c8-aa92-b69aa7cfa12f"
      },
      "execution_count": null,
      "outputs": [
        {
          "output_type": "stream",
          "name": "stdout",
          "text": [
            "['Yes!', 'Literally!', 'There was once a time!', 'Centuries ago!', 'Think, Cranwitz!', 'If we succeed!']\n"
          ]
        }
      ]
    },
    {
      "cell_type": "markdown",
      "source": [
        "Задание №5"
      ],
      "metadata": {
        "id": "If_N7mDVqsJq"
      }
    },
    {
      "cell_type": "code",
      "source": [
        "dist = []\n",
        "for n in range(1, 16):\n",
        "    dist += [n] * len(re.findall(r'\\b[a-zA-Z]{' + str(n) + r'}\\b', text2))\n",
        "\n",
        "plt.hist(dist, bins=15)\n",
        "plt.xlabel('Lenght')\n",
        "plt.ylabel('Count')\n",
        "plt.show()"
      ],
      "metadata": {
        "colab": {
          "base_uri": "https://localhost:8080/",
          "height": 279
        },
        "id": "-LqYXLDdlxAA",
        "outputId": "84f074e8-87a9-4cf3-8b26-5a5e92c3f5e3"
      },
      "execution_count": null,
      "outputs": [
        {
          "output_type": "display_data",
          "data": {
            "text/plain": [
              "<Figure size 432x288 with 1 Axes>"
            ],
            "image/png": "[encoded data removed]"
          },
          "metadata": {
            "needs_background": "light"
          }
        }
      ]
    },
    {
      "cell_type": "markdown",
      "source": [
        "Задание №6"
      ],
      "metadata": {
        "id": "wK14ydovrSYm"
      }
    },
    {
      "cell_type": "code",
      "source": [
        "def to_brick(text):\n",
        "    return re.sub(r'([аеёиоуыэюя])', r'\\1к\\1',  text)\n",
        "\n",
        "print(to_brick('молоко'))\n",
        "print(to_brick('железо'))\n",
        "print(to_brick('синхрофазатрон'))"
      ],
      "metadata": {
        "colab": {
          "base_uri": "https://localhost:8080/"
        },
        "id": "SQkynj5tlxCh",
        "outputId": "230ff4fe-999d-426a-c502-7d6fc2662403"
      },
      "execution_count": null,
      "outputs": [
        {
          "output_type": "stream",
          "name": "stdout",
          "text": [
            "моколокококо\n",
            "жекелекезоко\n",
            "сикинхрокофаказакатрокон\n"
          ]
        }
      ]
    }
  ]
}